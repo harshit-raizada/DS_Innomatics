{
 "cells": [
  {
   "cell_type": "code",
   "execution_count": 1,
   "id": "5eebcf35",
   "metadata": {},
   "outputs": [
    {
     "name": "stdout",
     "output_type": "stream",
     "text": [
      "5\n",
      "5.0\n",
      "0.0\n"
     ]
    }
   ],
   "source": [
    "#Polar Coordinates\n",
    "\n",
    "import cmath\n",
    "\n",
    "complx = complex(input())\n",
    "print(abs(complx))\n",
    "print(cmath.phase(complx))"
   ]
  },
  {
   "cell_type": "code",
   "execution_count": 4,
   "id": "715486eb",
   "metadata": {},
   "outputs": [
    {
     "name": "stdout",
     "output_type": "stream",
     "text": [
      "56\n",
      "45\n",
      "51°\n"
     ]
    }
   ],
   "source": [
    "#Find Angle MBC\n",
    "\n",
    "import sys\n",
    "import math\n",
    "\n",
    "ab = int(input())\n",
    "bc = int(input())\n",
    "\n",
    "print(round(math.degrees(math.atan(ab/bc))), chr(176),sep=\"\")"
   ]
  },
  {
   "cell_type": "code",
   "execution_count": 5,
   "id": "a7a15798",
   "metadata": {},
   "outputs": [
    {
     "name": "stdout",
     "output_type": "stream",
     "text": [
      "5\n",
      "1\n",
      "121\n",
      "12321\n",
      "1234321\n",
      "123454321\n"
     ]
    }
   ],
   "source": [
    "#Triangle Quest 2\n",
    "\n",
    "for i in range(1,int(input())+1): #More than 2 lines will result in 0 score. Do not leave a blank line also\n",
    "    print((10**i//9)**2)"
   ]
  },
  {
   "cell_type": "code",
   "execution_count": 6,
   "id": "4f0d41ea",
   "metadata": {},
   "outputs": [
    {
     "name": "stdout",
     "output_type": "stream",
     "text": [
      "5\n",
      "1\n",
      "5\n",
      "0\n",
      "(5, 0)\n"
     ]
    }
   ],
   "source": [
    "#Mod Divmod\n",
    "\n",
    "a = int(input())\n",
    "b = int(input())\n",
    "\n",
    "print(a // b)\n",
    "print(a % b)\n",
    "print (divmod(a, b))"
   ]
  },
  {
   "cell_type": "code",
   "execution_count": 7,
   "id": "14fb1750",
   "metadata": {},
   "outputs": [
    {
     "name": "stdout",
     "output_type": "stream",
     "text": [
      "5\n",
      "8\n",
      "3\n",
      "390625\n",
      "1\n"
     ]
    }
   ],
   "source": [
    "#Power Mod Power\n",
    "\n",
    "a = int(input())\n",
    "b = int(input())\n",
    "m = int(input())\n",
    "\n",
    "print(pow(a,b))\n",
    "print(pow(a,b,m))"
   ]
  },
  {
   "cell_type": "code",
   "execution_count": 8,
   "id": "e3f29f34",
   "metadata": {},
   "outputs": [
    {
     "name": "stdout",
     "output_type": "stream",
     "text": [
      "5\n",
      "8\n",
      "2\n",
      "3\n",
      "390633\n"
     ]
    }
   ],
   "source": [
    "#Integer come in all size\n",
    "\n",
    "a=int(input())\n",
    "b=int(input())\n",
    "c=int(input())\n",
    "d=int(input())\n",
    "\n",
    "print(pow(a,b)+pow(c,d))"
   ]
  },
  {
   "cell_type": "code",
   "execution_count": 9,
   "id": "cdc321a2",
   "metadata": {},
   "outputs": [
    {
     "name": "stdout",
     "output_type": "stream",
     "text": [
      "5\n",
      "1\n",
      "22\n",
      "333\n",
      "4444\n"
     ]
    }
   ],
   "source": [
    "#Triangle Quest\n",
    "\n",
    "for i in range(1,int(input())):\n",
    "    print((pow(10, i)//9)*i)"
   ]
  }
 ],
 "metadata": {
  "kernelspec": {
   "display_name": "Python 3",
   "language": "python",
   "name": "python3"
  },
  "language_info": {
   "codemirror_mode": {
    "name": "ipython",
    "version": 3
   },
   "file_extension": ".py",
   "mimetype": "text/x-python",
   "name": "python",
   "nbconvert_exporter": "python",
   "pygments_lexer": "ipython3",
   "version": "3.8.8"
  }
 },
 "nbformat": 4,
 "nbformat_minor": 5
}
