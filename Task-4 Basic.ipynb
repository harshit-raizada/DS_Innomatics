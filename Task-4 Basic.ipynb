{
 "cells": [
  {
   "cell_type": "code",
   "execution_count": 2,
   "id": "218196a4",
   "metadata": {},
   "outputs": [
    {
     "name": "stdout",
     "output_type": "stream",
     "text": [
      "iaagrs\n",
      "3\n",
      "iaa\n",
      "grs\n"
     ]
    }
   ],
   "source": [
    "#Text Wrap\n",
    "\n",
    "import textwrap\n",
    "\n",
    "def wrap(string, max_width):\n",
    "    return textwrap.fill(string,max_width)\n",
    "\n",
    "if __name__ == '__main__':\n",
    "    string, max_width = input(), int(input())\n",
    "    result = wrap(string, max_width)\n",
    "    print(result)"
   ]
  },
  {
   "cell_type": "code",
   "execution_count": null,
   "id": "b0c8fb3e",
   "metadata": {},
   "outputs": [],
   "source": [
    "#Swap Case\n",
    "\n",
    "def swap_case(s):\n",
    "\n",
    "    Output = '';\n",
    "    for char in s:\n",
    "        if(char.isupper()==True):\n",
    "            Output += (char.lower());\n",
    "        elif(char.islower()==True):\n",
    "            Output += (char.upper());\n",
    "        else:\n",
    "            Output += char;\n",
    "    return Output;\n",
    "\n",
    "if __name__ == '__main__':\n",
    "    s = input()\n",
    "    result = swap_case(s)\n",
    "    print(result)"
   ]
  },
  {
   "cell_type": "code",
   "execution_count": null,
   "id": "e4082783",
   "metadata": {},
   "outputs": [],
   "source": [
    "#Designer Door Mat\n",
    "\n",
    "# Enter your code here. Read input from STDIN. Print output to STDOUT\n",
    "n,m = map(int,input().split())\n",
    "s = ''\n",
    "for i in range(n-1):\n",
    "    if i%2!=0:\n",
    "        s+=('.|.'*i).center(m,'-')\n",
    "        s+='\\n'\n",
    "\n",
    "s+=('WELCOME').center(m,'-')\n",
    "s+='\\n'\n",
    "\n",
    "for i in range(1-n,0):\n",
    "    if i%2!=0:\n",
    "        i=-i\n",
    "        s+=('.|.'*i).center(m,'-')\n",
    "        s+='\\n'\n",
    "print(s)"
   ]
  },
  {
   "cell_type": "code",
   "execution_count": null,
   "id": "d2559016",
   "metadata": {},
   "outputs": [],
   "source": [
    "#Alphabet Rangoli\n",
    "\n",
    "def print_rangoli(size):\n",
    "    alph = 'abcdefghijklmnopqrstuvwxyz'\n",
    "    s = (size-1) * 4 + 1\n",
    "    r = list(range(1, size+1)) + list(range(1, size+1))[:-1][::-1]\n",
    "    \n",
    "    for i in r:\n",
    "        l = list(reversed([alph[s] for s in range(size-i, size)]))\n",
    "        print('-'.join(l+ l[: i*2-3][:i-1][::-1]).center(s, '-'))\n",
    "\n",
    "if __name__ == '__main__':\n",
    "    n = int(input())\n",
    "    print_rangoli(n)"
   ]
  },
  {
   "cell_type": "code",
   "execution_count": null,
   "id": "86c219a0",
   "metadata": {},
   "outputs": [],
   "source": [
    "#The Minion Game\n",
    "\n",
    "def minion_game(string):\n",
    "    # your code goes here\n",
    "    stuart = 0\n",
    "    kevin = 0\n",
    "    for i in range(len(string)):\n",
    "        if string[i] in {'A','E','I','O','U'}:\n",
    "            kevin += (len(string) - i)\n",
    "        else:\n",
    "            stuart += (len(string) - i)\n",
    "    if stuart == kevin:\n",
    "        print('Draw')\n",
    "    elif stuart > kevin:\n",
    "        print('Stuart',stuart)\n",
    "    else:\n",
    "        print('Kevin',kevin)\n",
    "if __name__ == '__main__':\n",
    "    s = input()\n",
    "    minion_game(s)"
   ]
  },
  {
   "cell_type": "code",
   "execution_count": null,
   "id": "205a116d",
   "metadata": {},
   "outputs": [],
   "source": [
    "#Merge The Tools\n",
    "\n",
    "from textwrap import wrap\n",
    "\n",
    "def merge_the_tools(string, k):\n",
    "    ls = wrap(string, k)\n",
    "    new_ls = []\n",
    "    for x in ls:\n",
    "        result = x[0]\n",
    "        for i in range(1,len(x)):\n",
    "            if x[i] not in result:\n",
    "                result += x[i]\n",
    "            else: \n",
    "                continue\n",
    "        print(result)\n",
    "        \n",
    "if __name__ == '__main__':\n",
    "    string, k = input(), int(input())\n",
    "    merge_the_tools(string, k)"
   ]
  }
 ],
 "metadata": {
  "kernelspec": {
   "display_name": "Python 3",
   "language": "python",
   "name": "python3"
  },
  "language_info": {
   "codemirror_mode": {
    "name": "ipython",
    "version": 3
   },
   "file_extension": ".py",
   "mimetype": "text/x-python",
   "name": "python",
   "nbconvert_exporter": "python",
   "pygments_lexer": "ipython3",
   "version": "3.8.8"
  }
 },
 "nbformat": 4,
 "nbformat_minor": 5
}
