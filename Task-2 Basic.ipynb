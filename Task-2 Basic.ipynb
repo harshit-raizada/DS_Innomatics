{
 "cells": [
  {
   "cell_type": "code",
   "execution_count": 3,
   "id": "9d406cdc",
   "metadata": {},
   "outputs": [
    {
     "name": "stdout",
     "output_type": "stream",
     "text": [
      "5\n",
      "1\n",
      "1.0\n"
     ]
    }
   ],
   "source": [
    "#Intro to Sets\n",
    "\n",
    "def averageValue(array):\n",
    "    return sum(set(array))/len(set(arr))\n",
    "if __name__ == '__main__':\n",
    "    n = int(input())\n",
    "    arr = list(map(int, input().split()))\n",
    "    result = averageValue(arr)\n",
    "    print(result)"
   ]
  },
  {
   "cell_type": "code",
   "execution_count": 5,
   "id": "22c451db",
   "metadata": {},
   "outputs": [
    {
     "name": "stdout",
     "output_type": "stream",
     "text": [
      "5\n",
      "4\n",
      "7\n",
      "8\n",
      "[[0, 0, 0], [0, 0, 1], [0, 0, 2], [0, 0, 3], [0, 0, 4], [0, 0, 6], [0, 0, 7], [0, 1, 0], [0, 1, 1], [0, 1, 2], [0, 1, 3], [0, 1, 5], [0, 1, 6], [0, 1, 7], [0, 2, 0], [0, 2, 1], [0, 2, 2], [0, 2, 4], [0, 2, 5], [0, 2, 6], [0, 2, 7], [0, 3, 0], [0, 3, 1], [0, 3, 3], [0, 3, 4], [0, 3, 5], [0, 3, 6], [0, 3, 7], [0, 4, 0], [0, 4, 2], [0, 4, 3], [0, 4, 4], [0, 4, 5], [0, 4, 6], [0, 4, 7], [1, 0, 0], [1, 0, 1], [1, 0, 2], [1, 0, 3], [1, 0, 5], [1, 0, 6], [1, 0, 7], [1, 1, 0], [1, 1, 1], [1, 1, 2], [1, 1, 4], [1, 1, 5], [1, 1, 6], [1, 1, 7], [1, 2, 0], [1, 2, 1], [1, 2, 3], [1, 2, 4], [1, 2, 5], [1, 2, 6], [1, 2, 7], [1, 3, 0], [1, 3, 2], [1, 3, 3], [1, 3, 4], [1, 3, 5], [1, 3, 6], [1, 3, 7], [1, 4, 1], [1, 4, 2], [1, 4, 3], [1, 4, 4], [1, 4, 5], [1, 4, 6], [1, 4, 7], [2, 0, 0], [2, 0, 1], [2, 0, 2], [2, 0, 4], [2, 0, 5], [2, 0, 6], [2, 0, 7], [2, 1, 0], [2, 1, 1], [2, 1, 3], [2, 1, 4], [2, 1, 5], [2, 1, 6], [2, 1, 7], [2, 2, 0], [2, 2, 2], [2, 2, 3], [2, 2, 4], [2, 2, 5], [2, 2, 6], [2, 2, 7], [2, 3, 1], [2, 3, 2], [2, 3, 3], [2, 3, 4], [2, 3, 5], [2, 3, 6], [2, 3, 7], [2, 4, 0], [2, 4, 1], [2, 4, 2], [2, 4, 3], [2, 4, 4], [2, 4, 5], [2, 4, 6], [2, 4, 7], [3, 0, 0], [3, 0, 1], [3, 0, 3], [3, 0, 4], [3, 0, 5], [3, 0, 6], [3, 0, 7], [3, 1, 0], [3, 1, 2], [3, 1, 3], [3, 1, 4], [3, 1, 5], [3, 1, 6], [3, 1, 7], [3, 2, 1], [3, 2, 2], [3, 2, 3], [3, 2, 4], [3, 2, 5], [3, 2, 6], [3, 2, 7], [3, 3, 0], [3, 3, 1], [3, 3, 2], [3, 3, 3], [3, 3, 4], [3, 3, 5], [3, 3, 6], [3, 3, 7], [3, 4, 0], [3, 4, 1], [3, 4, 2], [3, 4, 3], [3, 4, 4], [3, 4, 5], [3, 4, 6], [3, 4, 7], [4, 0, 0], [4, 0, 2], [4, 0, 3], [4, 0, 4], [4, 0, 5], [4, 0, 6], [4, 0, 7], [4, 1, 1], [4, 1, 2], [4, 1, 3], [4, 1, 4], [4, 1, 5], [4, 1, 6], [4, 1, 7], [4, 2, 0], [4, 2, 1], [4, 2, 2], [4, 2, 3], [4, 2, 4], [4, 2, 5], [4, 2, 6], [4, 2, 7], [4, 3, 0], [4, 3, 1], [4, 3, 2], [4, 3, 3], [4, 3, 4], [4, 3, 5], [4, 3, 6], [4, 3, 7], [4, 4, 0], [4, 4, 1], [4, 4, 2], [4, 4, 3], [4, 4, 4], [4, 4, 5], [4, 4, 6], [4, 4, 7], [5, 0, 1], [5, 0, 2], [5, 0, 3], [5, 0, 4], [5, 0, 5], [5, 0, 6], [5, 0, 7], [5, 1, 0], [5, 1, 1], [5, 1, 2], [5, 1, 3], [5, 1, 4], [5, 1, 5], [5, 1, 6], [5, 1, 7], [5, 2, 0], [5, 2, 1], [5, 2, 2], [5, 2, 3], [5, 2, 4], [5, 2, 5], [5, 2, 6], [5, 2, 7], [5, 3, 0], [5, 3, 1], [5, 3, 2], [5, 3, 3], [5, 3, 4], [5, 3, 5], [5, 3, 6], [5, 3, 7], [5, 4, 0], [5, 4, 1], [5, 4, 2], [5, 4, 3], [5, 4, 4], [5, 4, 5], [5, 4, 6], [5, 4, 7]]\n"
     ]
    }
   ],
   "source": [
    "#List Comprehension\n",
    "\n",
    "x = int(input())\n",
    "y = int(input())\n",
    "z = int(input())\n",
    "a = int(input())\n",
    "\n",
    "list = []\n",
    "\n",
    "for i in range(x+1):\n",
    "    for j in range(y+1):\n",
    "        for k in range(z+1):\n",
    "            if i+j+k != n:\n",
    "                list.append([i,j,k])       \n",
    "print(list)"
   ]
  },
  {
   "cell_type": "code",
   "execution_count": 7,
   "id": "e2b0b5e9",
   "metadata": {},
   "outputs": [
    {
     "name": "stdout",
     "output_type": "stream",
     "text": [
      "1\n",
      "2\n"
     ]
    }
   ],
   "source": [
    "#Runner Up Score\n",
    "\n",
    "n = int(input())\n",
    "\n",
    "list = [int(x) for x in input().split()]\n",
    "list.sort()\n",
    "for i in range(n-1, -1, -1):\n",
    "    if (list[i - 1] < list[i]):\n",
    "        print(list[i - 1])\n",
    "        break"
   ]
  },
  {
   "cell_type": "code",
   "execution_count": 9,
   "id": "05319fcf",
   "metadata": {},
   "outputs": [
    {
     "name": "stdout",
     "output_type": "stream",
     "text": [
      "1\n",
      "5\n",
      "55\n"
     ]
    }
   ],
   "source": [
    "#Nested List\n",
    "\n",
    "if __name__ == '__main__':\n",
    "    student = []\n",
    "    for _ in range(int(input())):\n",
    "        name = input()\n",
    "        score = float(input())\n",
    "        student.append([score,name])\n",
    "    \n",
    "    student.sort()\n",
    "\n",
    "    grade = student[0][0]\n",
    "    \n",
    "    for i in range(1,len(student)):\n",
    "        if grade < student[i][0]:\n",
    "            grade = student[i][0]\n",
    "            break\n",
    "    \n",
    "    for i in range(1,len(student)):\n",
    "        if student[i][0] == grade:\n",
    "            print(student[i][1])"
   ]
  },
  {
   "cell_type": "code",
   "execution_count": null,
   "id": "d9749003",
   "metadata": {},
   "outputs": [],
   "source": [
    "#Find Percentage\n",
    "\n",
    "if __name__ == '__main__':\n",
    "    n = int(input())\n",
    "    student_marks = {}\n",
    "    for _ in range(n):\n",
    "        name, *line = input().split()\n",
    "        scores = list(map(float, line))\n",
    "        student_marks[name] = scores\n",
    "    query_name = input()\n",
    "    marks=0\n",
    "    for i in student_marks[query_name]:\n",
    "        marks=marks+i\n",
    "    avg=marks/3\n",
    "    print(\"%.2f\"%avg)"
   ]
  },
  {
   "cell_type": "code",
   "execution_count": null,
   "id": "f1792b38",
   "metadata": {},
   "outputs": [],
   "source": [
    "#List\n",
    "\n",
    "if __name__ == '__main__':\n",
    "    N = int(input())\n",
    "    Output = [];\n",
    "    for i in range(0,N):\n",
    "        ip = input().split();\n",
    "        if ip[0] == \"print\":\n",
    "            print(Output)\n",
    "        elif ip[0] == \"insert\":\n",
    "            Output.insert(int(ip[1]),int(ip[2]))\n",
    "        elif ip[0] == \"remove\":\n",
    "            Output.remove(int(ip[1]))\n",
    "        elif ip[0] == \"pop\":\n",
    "            Output.pop();\n",
    "        elif ip[0] == \"append\":\n",
    "            Output.append(int(ip[1]))\n",
    "        elif ip[0] == \"sort\":\n",
    "            Output.sort();\n",
    "        else:\n",
    "            Output.reverse();"
   ]
  },
  {
   "cell_type": "code",
   "execution_count": null,
   "id": "2dacfc1b",
   "metadata": {},
   "outputs": [],
   "source": [
    "#Tuple\n",
    "\n",
    "if __name__ == '__main__':\n",
    "    tuple_len = int(raw_input())\n",
    "    a = tuple(map(int, raw_input().split(' ')))\n",
    "    print hash(a)"
   ]
  },
  {
   "cell_type": "code",
   "execution_count": null,
   "id": "55aa0aa8",
   "metadata": {},
   "outputs": [],
   "source": [
    "#No Idea\n",
    "\n",
    "if __name__ == '__main__':\n",
    "    n, m = map(int, input().split())\n",
    "    arr = list(map(int, input().split()))\n",
    "    A = set(map(int, input().split()))\n",
    "    B = set(map(int, input().split()))\n",
    "    happiness = 0\n",
    "    \n",
    "    for i in arr:\n",
    "        if i in A:\n",
    "            happiness += 1\n",
    "        elif i in B:\n",
    "            happiness -= 1\n",
    "    \n",
    "    print(happiness)"
   ]
  },
  {
   "cell_type": "code",
   "execution_count": null,
   "id": "fc6626b3",
   "metadata": {},
   "outputs": [],
   "source": [
    "#Symmetric Difference\n",
    "\n",
    "N = int(input())\n",
    "N_list = map(int, input().split(' '))\n",
    "M = int(input())\n",
    "M_list = map(int, input().split(' '))\n",
    "\n",
    "N_set = set(N_list)\n",
    "M_set = set(M_list)\n",
    "\n",
    "tmp_set1 = N_set.difference(M_set)\n",
    "tmp_set2 = M_set.difference(N_set)\n",
    "result = tmp_set1.union(tmp_set2)\n",
    "result = sorted(result)\n",
    "\n",
    "for el in result:\n",
    "    print(el)"
   ]
  },
  {
   "cell_type": "code",
   "execution_count": null,
   "id": "cf8290c2",
   "metadata": {},
   "outputs": [],
   "source": [
    "#Set.add()\n",
    "\n",
    "n = int(input())\n",
    "set1 = set()\n",
    "for i in range(n):\n",
    "    set1.add(input().strip())\n",
    "print(len(set1))"
   ]
  },
  {
   "cell_type": "code",
   "execution_count": null,
   "id": "17ec2819",
   "metadata": {},
   "outputs": [],
   "source": [
    "#Discard, pop & remove\n",
    "\n",
    "n = input()\n",
    "s = set(map(int, input().split()))\n",
    "for i in range(int(input())):\n",
    "    c = input().split()\n",
    "    if c[0] == 'pop':\n",
    "        s.pop()\n",
    "    elif c == 'remove':\n",
    "        s.remove(int(c[1]))\n",
    "    else:\n",
    "        s.discard(int(c[1]))\n",
    "print(sum(s))"
   ]
  },
  {
   "cell_type": "code",
   "execution_count": null,
   "id": "4572f54a",
   "metadata": {},
   "outputs": [],
   "source": [
    "#Set union\n",
    "\n",
    "n = int(input())\n",
    "english = set(map(int, input().split()))\n",
    "m = int(input())\n",
    "french = set(map(int, input().split()))\n",
    "\n",
    "print(len(english.union(french)))"
   ]
  },
  {
   "cell_type": "code",
   "execution_count": null,
   "id": "bb07719d",
   "metadata": {},
   "outputs": [],
   "source": [
    "#Set Intersection\n",
    "\n",
    "n1 = int(input())\n",
    "set1 = set(map(int, input().split()))\n",
    "n2 = int(input())\n",
    "set2 = set(map(int, input().split()))\n",
    "\n",
    "commonSet = set1.intersection(set2)\n",
    "\n",
    "print(len(commonSet))"
   ]
  },
  {
   "cell_type": "code",
   "execution_count": null,
   "id": "b1640006",
   "metadata": {},
   "outputs": [],
   "source": [
    "#Set Difference\n",
    "\n",
    "n_eng = int(input())\n",
    "eng_subs = set(map(int, input().split()))\n",
    "n_frn = int(input()) \n",
    "frn_subs = set(map(int, input().split()))  \n",
    "\n",
    "eng_only_subs = len(eng_subs.difference(frn_subs))\n",
    "\n",
    "print(eng_only_subs)"
   ]
  },
  {
   "cell_type": "code",
   "execution_count": null,
   "id": "4c7c4799",
   "metadata": {},
   "outputs": [],
   "source": [
    "#Set Symmetric Difference\n",
    "\n",
    "x = int(input())\n",
    "\n",
    "english_subs = set(map(int, input().split()))\n",
    "\n",
    "y = int(input())\n",
    "\n",
    "french_subs = set(map(int, input().split()))\n",
    "\n",
    "either_subs = english_subs ^ french_subs\n",
    "print(len(either_subs))"
   ]
  },
  {
   "cell_type": "code",
   "execution_count": null,
   "id": "135ef9e4",
   "metadata": {},
   "outputs": [],
   "source": [
    "#Set Mutation\n",
    "\n",
    "length=int(raw_input())\n",
    "s=set(map(int, raw_input().split()))\n",
    "N=int(raw_input())\n",
    "\n",
    "for i in range(N):\n",
    "    (p, q)=raw_input().split()\n",
    "    s2=set(map(int, raw_input().split()))\n",
    "    if p=='intersection_update':\n",
    "        s.intersection_update(s2)\n",
    "    elif p=='update':\n",
    "        s.update(s2)\n",
    "    elif p=='symmetric_difference_update':\n",
    "        s.symmetric_difference_update(s2)\n",
    "    elif p=='difference_update':\n",
    "        s.difference_update(s2)\n",
    "print sum(s)"
   ]
  },
  {
   "cell_type": "code",
   "execution_count": null,
   "id": "6829d6b2",
   "metadata": {},
   "outputs": [],
   "source": [
    "#The Captain's Room\n",
    "\n",
    "from collections import Counter\n",
    "\n",
    "x = int(input())\n",
    "room_list = list(map(int, input().split()))\n",
    "\n",
    "room_counts = Counter(room_list)\n",
    "\n",
    "for room, count in room_counts.items():\n",
    "    if count == 1:\n",
    "        print(room)\n",
    "        break"
   ]
  },
  {
   "cell_type": "code",
   "execution_count": null,
   "id": "3c014772",
   "metadata": {},
   "outputs": [],
   "source": [
    "#Check Subset\n",
    "\n",
    "if __name__ == '__main__':\n",
    "    T = int(input())\n",
    "\n",
    "    for i in range(T):\n",
    "        n = int(input())\n",
    "        set_a = set(map(int, input().split()))\n",
    "        m = int(input())\n",
    "        set_b = set(map(int, input().split()))\n",
    "\n",
    "        if set_a.issubset(set_b):\n",
    "            print(True)\n",
    "        else:\n",
    "            print(False)"
   ]
  },
  {
   "cell_type": "code",
   "execution_count": null,
   "id": "d6f68b13",
   "metadata": {},
   "outputs": [],
   "source": [
    "#Check Strict Superset\n",
    "\n",
    "if __name__ == '__main__':\n",
    "    x = set(input().split())\n",
    "    y = int(input())\n",
    "    is_strict_superset = True\n",
    "    \n",
    "    for i in range(y):\n",
    "        B = set(input().split())\n",
    "        if not B.issubset(x) or B == x:\n",
    "            is_strict_superset = False\n",
    "            break\n",
    "    \n",
    "    print(is_strict_superset)"
   ]
  }
 ],
 "metadata": {
  "kernelspec": {
   "display_name": "Python 3",
   "language": "python",
   "name": "python3"
  },
  "language_info": {
   "codemirror_mode": {
    "name": "ipython",
    "version": 3
   },
   "file_extension": ".py",
   "mimetype": "text/x-python",
   "name": "python",
   "nbconvert_exporter": "python",
   "pygments_lexer": "ipython3",
   "version": "3.8.8"
  }
 },
 "nbformat": 4,
 "nbformat_minor": 5
}
