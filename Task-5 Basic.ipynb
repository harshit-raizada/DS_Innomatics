{
 "cells": [
  {
   "cell_type": "code",
   "execution_count": null,
   "id": "2c613571",
   "metadata": {},
   "outputs": [],
   "source": [
    "#Detect Floating Point Number\n",
    "\n",
    "import re\n",
    "\n",
    "pattern = r'^[+-]?\\d*\\.?\\d+$'\n",
    "\n",
    "for _ in range(int(input())):\n",
    "    num = input().strip()\n",
    "    print(bool(re.match(pattern, num)))"
   ]
  },
  {
   "cell_type": "code",
   "execution_count": null,
   "id": "ace4218c",
   "metadata": {},
   "outputs": [],
   "source": [
    "#Re Findall & Re FindIter\n",
    "\n",
    "import re\n",
    "Storage = re.findall(r'(?<=[qwrtypsdfghjklzxcvbnm])([aeiou]{2,})(?=[qwrtypsdfghjklzxcvbnm])', input().strip(), re.IGNORECASE)\n",
    "if Storage:\n",
    "    for i in Storage:\n",
    "        print(i)\n",
    "else:\n",
    "    print(-1)"
   ]
  },
  {
   "cell_type": "code",
   "execution_count": null,
   "id": "2bd2cce1",
   "metadata": {},
   "outputs": [],
   "source": [
    "#Validating UID\n",
    "\n",
    "import re\n",
    "\n",
    "T = int(input())\n",
    "for _ in range(T):\n",
    "    s = input()\n",
    "    result = 'Valid'\n",
    "    if len(re.findall(r'[A-Z]',s))<2:\n",
    "        result = 'Invalid'        \n",
    "    elif len(re.findall(r'[0-9]',s))<3:\n",
    "        result = 'Invalid'\n",
    "    elif not(re.match(r'^[a-zA-Z0-9]{10}$',s)):\n",
    "        result = 'Invalid'\n",
    "    elif (len(set(s))) != len(s):\n",
    "        result = 'Invalid'\n",
    "    print(result)"
   ]
  },
  {
   "cell_type": "code",
   "execution_count": null,
   "id": "78a466df",
   "metadata": {},
   "outputs": [],
   "source": [
    "#Re.Split()\n",
    "\n",
    "regex_pattern = r\"[\\b\\W\\b]+\"\n",
    "\n",
    "import re\n",
    "print(\"\\n\".join(re.split(regex_pattern, input())))"
   ]
  },
  {
   "cell_type": "code",
   "execution_count": null,
   "id": "29675ff0",
   "metadata": {},
   "outputs": [],
   "source": [
    "#Regex Substitution\n",
    "\n",
    "import re\n",
    "def change(match):\n",
    "    if match.group(1) == '&&':\n",
    "        return 'and'\n",
    "    else:\n",
    "        return 'or'\n",
    "for _ in range(int(input())):\n",
    "    print(re.sub(r\"(?<= )(\\|\\||&&)(?= )\", change,input()))"
   ]
  },
  {
   "cell_type": "code",
   "execution_count": null,
   "id": "e9b39124",
   "metadata": {},
   "outputs": [],
   "source": [
    "#Matrix Script\n",
    "\n",
    "import re\n",
    "\n",
    "n, m = input().split()\n",
    "n, m = int(n), int(m)\n",
    "\n",
    "line_list = []\n",
    "for i in range(n):\n",
    "    line = input()\n",
    "    line_list.append(line)\n",
    "\n",
    "transposed_tuple_list = list(zip(*line_list))\n",
    "\n",
    "joined_string = ''\n",
    "for i in transposed_tuple_list:\n",
    "    joined_string = joined_string + ''.join(i)\n",
    "    \n",
    "print(re.sub(r'(?<=[a-zA-Z0-9])[!@#$%&\\s]+(?=[a-zA-Z0-9])', ' ', joined_string))"
   ]
  },
  {
   "cell_type": "code",
   "execution_count": null,
   "id": "64cf1942",
   "metadata": {},
   "outputs": [],
   "source": [
    "#Hex Colour Code\n",
    "\n",
    "import re\n",
    "\n",
    "expression = \".#[0-9A-Fa-f]{3,6}\"\n",
    "\n",
    "for i in range(int(input())):\n",
    "    inpt = re.findall(expression, input())\n",
    "    \n",
    "    if inpt:\n",
    "        for j in inpt:\n",
    "            print(j[1:])"
   ]
  },
  {
   "cell_type": "code",
   "execution_count": null,
   "id": "41e28eb6",
   "metadata": {},
   "outputs": [],
   "source": [
    "#Group, Groups, Group Dict\n",
    "\n",
    "import re\n",
    "m = re.search(r\"([a-z0-9])\\1{1,}\", input())\n",
    "\n",
    "print(m.group()[0]) if m else print(-1)"
   ]
  },
  {
   "cell_type": "code",
   "execution_count": null,
   "id": "a9fc0e5a",
   "metadata": {},
   "outputs": [],
   "source": [
    "#Validating Postal Code\n",
    "\n",
    "regex_integer_in_range = r\"^[1-9]\\d{5}$\"    # Do not delete 'r'.\n",
    "regex_alternating_repetitive_digit_pair = r\"(\\d)(?=\\d\\1)\"    # Do not delete 'r'.\n",
    "\n",
    "\n",
    "import re\n",
    "P = input()\n",
    "\n",
    "print (bool(re.match(regex_integer_in_range, P)) \n",
    "and len(re.findall(regex_alternating_repetitive_digit_pair, P)) < 2)"
   ]
  },
  {
   "cell_type": "code",
   "execution_count": null,
   "id": "7b5ded4c",
   "metadata": {},
   "outputs": [],
   "source": [
    "#Validating Credit Card Numbers\n",
    "\n",
    "import re\n",
    "for i in range(int(input())):\n",
    "    number=input()\n",
    "    if len(number)==16 or len(number)==19:\n",
    "        if re.match(r\"^[456][0-9]{15}\",number) or re.match(r\"^([456]\\d{3})\\-{1}(\\d){4}\\-{1}(\\d){4}\\-{1}(\\d){4}\",number):\n",
    "            if (\"-\" in number):\n",
    "                number=number.replace(\"-\",\"\")\n",
    "            val=0\n",
    "            for i in range(13):\n",
    "                if number[i]==number[i+1]==number[i+2]==number[i+3]:\n",
    "                    val=1\n",
    "                    print(\"Invalid\")\n",
    "                    break\n",
    "            if val==0:\n",
    "                print(\"Valid\")        \n",
    "        else:\n",
    "            print(\"Invalid\")\n",
    "    else:\n",
    "        print(\"Invalid\")"
   ]
  },
  {
   "cell_type": "code",
   "execution_count": null,
   "id": "386b8852",
   "metadata": {},
   "outputs": [],
   "source": [
    "#HTML Parser-1\n",
    "\n",
    "import re\n",
    "from html.parser import HTMLParser\n",
    "class MyHTMLParser(HTMLParser):\n",
    "    def handle_starttag(self, tag, attrs):\n",
    "        print(\"Start :\", tag)\n",
    "        if attrs:\n",
    "            for x, y in attrs:\n",
    "                print(\"->\", x, '>', y)\n",
    "    def handle_endtag(self, tag):\n",
    "        print(\"End   :\", tag)\n",
    "    def handle_startendtag(self, tag, attrs):\n",
    "        print(\"Empty :\", tag)\n",
    "        if attrs:\n",
    "            for i, j in attrs:\n",
    "                print(\"->\", i, '>', j)\n",
    "\n",
    "num = int(input())\n",
    "s = str()\n",
    "for _ in range(num):\n",
    "    s += input()\n",
    "re.sub(r\"(?<=<!--).*(?=-->)\", \"\", s)\n",
    "temp = MyHTMLParser()\n",
    "temp.feed(s)"
   ]
  },
  {
   "cell_type": "code",
   "execution_count": null,
   "id": "1d914f2e",
   "metadata": {},
   "outputs": [],
   "source": [
    "#HTML Parser-2\n",
    "\n",
    "from html.parser import HTMLParser\n",
    "\n",
    "class MyHTMLParser(HTMLParser):\n",
    "    def handle_comment(self, data):\n",
    "        if data != '\\n':\n",
    "            if \"\\n\" in data:\n",
    "                print(\">>> Multi-line Comment\")\n",
    "                print(data)\n",
    "            else:\n",
    "                print(\">>> Single-line Comment\")\n",
    "                print(data)\n",
    "    def handle_data(self, data):\n",
    "        if not data == '\\n':\n",
    "            print(f\">>> Data\")\n",
    "            print(data)\n",
    "            \n",
    "html = \"\"       \n",
    "for i in range(int(input())):\n",
    "    html += input().rstrip()\n",
    "    html += '\\n'\n",
    "    \n",
    "parser = MyHTMLParser()\n",
    "parser.feed(html)\n",
    "parser.close()"
   ]
  },
  {
   "cell_type": "code",
   "execution_count": null,
   "id": "2cba9efa",
   "metadata": {},
   "outputs": [],
   "source": [
    "#Detect HTML Tags, Attributes\n",
    "\n",
    "from html.parser import HTMLParser\n",
    "\n",
    "class MyHTMLParser(HTMLParser):\n",
    "    def handle_starttag(self, tag, attrs):\n",
    "        print(tag)\n",
    "        for attr in attrs:\n",
    "            print(\"-> \"+attr[0]+\" >\", attr[1])\n",
    "html = \"\"       \n",
    "for i in range(int(input())):\n",
    "    html += input().rstrip()\n",
    "    html += '\\n'\n",
    "    \n",
    "parser = MyHTMLParser()\n",
    "parser.feed(html)\n",
    "parser.close()"
   ]
  },
  {
   "cell_type": "code",
   "execution_count": null,
   "id": "1947586c",
   "metadata": {},
   "outputs": [],
   "source": [
    "#Re Start and Re End\n",
    "\n",
    "import re\n",
    "S, k = input(), input()\n",
    "matches = re.finditer(r'(?=(' + k + '))', S)\n",
    "anymatch = False\n",
    "for match in matches:\n",
    "    anymatch = True\n",
    "    print((match.start(1), match.end(1) - 1))\n",
    "if anymatch == False:\n",
    "    print((-1, -1))"
   ]
  },
  {
   "cell_type": "code",
   "execution_count": null,
   "id": "98102ab6",
   "metadata": {},
   "outputs": [],
   "source": [
    "#Validating Roman Numericals\n",
    "\n",
    "regex_pattern = r\"^M{0,3}(CM|CD|D?C{0,3})(XC|XL|L?X{0,3})(IX|IV|V?I{0,3})$\"\n",
    "\n",
    "import re\n",
    "print(str(bool(re.match(regex_pattern, input()))))"
   ]
  },
  {
   "cell_type": "code",
   "execution_count": null,
   "id": "e5bca8d1",
   "metadata": {},
   "outputs": [],
   "source": [
    "#validating Phone Number\n",
    "\n",
    "import re\n",
    "print(*[ \"YES\" if re.match(r\"^[789]\\d{9}$\", input()) else \"NO\" for _ in range(int(input())) ],sep=\"\\n\")"
   ]
  },
  {
   "cell_type": "code",
   "execution_count": null,
   "id": "b0be26ae",
   "metadata": {},
   "outputs": [],
   "source": [
    "#Validating and Parsing Email Address\n",
    "\n",
    "import re\n",
    "\n",
    "pattern = r'^[a-zA-Z][a-zA-Z0-9\\._-]*@[a-zA-Z]+\\.[a-zA-Z]{1,3}$'\n",
    "\n",
    "n = int(input())\n",
    "\n",
    "for i in range(n):\n",
    "    name, email = input().split(' ')\n",
    "    if re.match(pattern, email[1:-1]):\n",
    "        print(name + ' ' + email)"
   ]
  }
 ],
 "metadata": {
  "kernelspec": {
   "display_name": "Python 3",
   "language": "python",
   "name": "python3"
  },
  "language_info": {
   "codemirror_mode": {
    "name": "ipython",
    "version": 3
   },
   "file_extension": ".py",
   "mimetype": "text/x-python",
   "name": "python",
   "nbconvert_exporter": "python",
   "pygments_lexer": "ipython3",
   "version": "3.8.8"
  }
 },
 "nbformat": 4,
 "nbformat_minor": 5
}
